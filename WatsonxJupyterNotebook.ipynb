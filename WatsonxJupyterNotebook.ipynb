{
 "cells": [
  {
   "cell_type": "markdown",
   "metadata": {
    "collapsed": true,
    "id": "00b028a7-1742-40e8-ad9d-4d429d108295",
    "jupyter": {
     "outputs_hidden": true
    }
   },
   "source": [
    "# My Jupyter Notebook on IBM watsonx.ai"
   ]
  },
  {
   "cell_type": "markdown",
   "metadata": {
    "id": "1cd423b0-3517-4b8a-9223-2716f73c25d2"
   },
   "source": [
    "**Mon**\n",
    "\n",
    "DS/ ML/AI Engineer"
   ]
  },
  {
   "cell_type": "markdown",
   "metadata": {
    "id": "a7474597-0262-4bea-a615-5e8e0a2c4c42"
   },
   "source": [
    "*I am interested in Data Science because data is everywhere in our daily life and Data Science is the art and science of extracting valuable knowledge and insights from the data for informed decision.*"
   ]
  },
  {
   "cell_type": "markdown",
   "metadata": {
    "id": "24d8835b-8f10-400e-a357-3d1ac8d47135"
   },
   "source": [
    "### Below are the outputs of adding 1 to 1.\n",
    "### To print desired output, we need to understand our data."
   ]
  },
  {
   "cell_type": "code",
   "execution_count": 4,
   "metadata": {
    "id": "7d18f784-50c0-464b-ac22-76110dcce095"
   },
   "outputs": [
    {
     "name": "stdout",
     "output_type": "stream",
     "text": [
      "2\n",
      "11\n",
      "2.0\n",
      "2.0\n"
     ]
    },
    {
     "ename": "TypeError",
     "evalue": "can only concatenate str (not \"int\") to str",
     "output_type": "error",
     "traceback": [
      "\u001b[0;31m---------------------------------------------------------------------------\u001b[0m",
      "\u001b[0;31mTypeError\u001b[0m                                 Traceback (most recent call last)",
      "Cell \u001b[0;32mIn[4], line 5\u001b[0m\n\u001b[1;32m      3\u001b[0m \u001b[38;5;28mprint\u001b[39m(\u001b[38;5;241m1\u001b[39m \u001b[38;5;241m+\u001b[39m \u001b[38;5;241m1.0\u001b[39m)\n\u001b[1;32m      4\u001b[0m \u001b[38;5;28mprint\u001b[39m(\u001b[38;5;241m1.0\u001b[39m \u001b[38;5;241m+\u001b[39m \u001b[38;5;241m1.0\u001b[39m)\n\u001b[0;32m----> 5\u001b[0m \u001b[38;5;28mprint\u001b[39m(\u001b[38;5;124m'\u001b[39m\u001b[38;5;124m1\u001b[39m\u001b[38;5;124m'\u001b[39m \u001b[38;5;241m+\u001b[39m \u001b[38;5;241m1\u001b[39m)\n",
      "\u001b[0;31mTypeError\u001b[0m: can only concatenate str (not \"int\") to str"
     ]
    }
   ],
   "source": [
    "print(1 + 1)\n",
    "print('1' + '1')\n",
    "print(1 + 1.0)\n",
    "print(1.0 + 1.0)\n",
    "print('1' + 1)"
   ]
  },
  {
   "cell_type": "markdown",
   "metadata": {
    "id": "3fcbfc5a-b6bf-40f5-add0-8d3ea16b99e2"
   },
   "source": [
    "Basic Skills for DS:\n",
    "- Curiosity\n",
    "- Fluency in analytics\n",
    "- Ability to communicate the findings\n",
    "\n",
    "DS Methodology consists of:\n",
    "1. Business Understanding\n",
    "2. Analytic Approach\n",
    "3. Data Requirements\n",
    "4. Data Collection\n",
    "5. Data Understanding\n",
    "6. Data Preparation\n",
    "7. Modeling\n",
    "8. Evaluation\n",
    "9. Deployment\n",
    "10. Feedback\n",
    "\n",
    "Open-Source tools for DS:\n",
    "|Data Management Tools|Data Integration and Transformation Tools|Data Visualization Tools|Model Deployment Tools|Model Monitoring and Assessment Tools|Code Development and Execution Tools|Code Asset Management Tools|\n",
    "|--------|--------|--------|--------|--------|--------|--------|\n",
    "|MySQL|Apache Airflow|PixieDust|Apache PredictionIO|ModelDB|Jupyter IDE|Git|\n",
    "|PostgreSQL|Kubeflow|Hue|Kubernetes|Prometheus|RStudio|GitLab|\n",
    "|Apache CouchDB|Apache Kafka|Kibana|Apache Seldon|IBM AI Fairness 360|Microsoft Visual Studio|GitHub|\n",
    "|MongoDB|Apache NiFi|Apache Superset|MLeap|IBM AI Explainability 360|PyCharm|Bitbucket from Atlassian|\n",
    "|Apache Cassandra|Apache Spark SQL||TensorFlow Lite|IBM Adversarial Robustness 360 Toolbox|Spyder||\n",
    "|Hadoop Distributed File System (HDFS)|Node-RED||Red Hat OpenShift||Anaconda Navigator||\n",
    "|Ceph|||TensorFlow Serving||||\n",
    "|Elasticsearch|||TensorFlow.js||||\n",
    "\n",
    "Programming Languages for DS:\n",
    "- [Python](https://www.python.org/)\n",
    "- [R](https://www.r-project.org/)\n",
    "- SQL\n",
    "- Scala\n",
    "- Java\n",
    "- C++\n",
    "- Julia\n",
    "- JavaScript\n",
    "- PHP\n",
    "- Go\n",
    "- Ruby\n",
    "- Visual Basic\n",
    "\n"
   ]
  },
  {
   "cell_type": "code",
   "execution_count": null,
   "metadata": {
    "id": "05cd863c-8066-4513-bc15-66eb737c7a11"
   },
   "outputs": [],
   "source": []
  }
 ],
 "metadata": {
  "kernelspec": {
   "display_name": "Python 3.11",
   "language": "python",
   "name": "python3"
  },
  "language_info": {
   "codemirror_mode": {
    "name": "ipython",
    "version": 3
   },
   "file_extension": ".py",
   "mimetype": "text/x-python",
   "name": "python",
   "nbconvert_exporter": "python",
   "pygments_lexer": "ipython3",
   "version": "3.11.13"
  }
 },
 "nbformat": 4,
 "nbformat_minor": 4
}
